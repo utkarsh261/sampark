{
 "cells": [
  {
   "cell_type": "code",
   "execution_count": 1,
   "metadata": {},
   "outputs": [],
   "source": [
    "import numpy as np\n",
    "from tensorflow import keras\n",
    "from nltk.tokenize import RegexpTokenizer\n",
    "from tensorflow.keras.models import Sequential, load_model\n",
    "from tensorflow.keras.layers import LSTM\n",
    "from tensorflow.keras.layers import Dense, Activation\n",
    "from tensorflow.keras.optimizers import RMSprop\n",
    "import matplotlib.pyplot as plt\n",
    "import pickle\n",
    "import heapq"
   ]
  },
  {
   "cell_type": "code",
   "execution_count": 2,
   "metadata": {},
   "outputs": [
    {
     "name": "stdout",
     "output_type": "stream",
     "text": [
      "corpus length: 571393\n"
     ]
    }
   ],
   "source": [
    "path = 'sher.txt'\n",
    "text = open(path).read().lower()\n",
    "# text = text.replace('\\n', '').replace('\\r', '').replace('\\ufeff', '')\n",
    "text = text.replace('\\r', '').replace('\\ufeff', '')\n",
    "print('corpus length:', len(text))"
   ]
  },
  {
   "cell_type": "code",
   "execution_count": 3,
   "metadata": {},
   "outputs": [],
   "source": [
    "tokenizer = RegexpTokenizer(r'\\w+')\n",
    "words = tokenizer.tokenize(text)"
   ]
  },
  {
   "cell_type": "code",
   "execution_count": 4,
   "metadata": {},
   "outputs": [],
   "source": [
    "unique_words = np.unique(words)\n",
    "unique_word_index = dict((c, i) for i, c in enumerate(unique_words))"
   ]
  },
  {
   "cell_type": "code",
   "execution_count": 5,
   "metadata": {},
   "outputs": [
    {
     "name": "stdout",
     "output_type": "stream",
     "text": [
      "['i', 'need', 'help']\n",
      "i\n"
     ]
    }
   ],
   "source": [
    "WORD_LENGTH = 3\n",
    "prev_words = []\n",
    "next_words = []\n",
    "for i in range(len(words) - WORD_LENGTH):\n",
    "    prev_words.append(words[i:i + WORD_LENGTH])\n",
    "    next_words.append(words[i + WORD_LENGTH])\n",
    "print(prev_words[0])\n",
    "print(next_words[0])"
   ]
  },
  {
   "cell_type": "code",
   "execution_count": 6,
   "metadata": {},
   "outputs": [],
   "source": [
    "X = np.zeros((len(prev_words), WORD_LENGTH, len(unique_words)), dtype=bool)\n",
    "Y = np.zeros((len(next_words), len(unique_words)), dtype=bool)\n",
    "for i, each_words in enumerate(prev_words):\n",
    "    for j, each_word in enumerate(each_words):\n",
    "        X[i, j, unique_word_index[each_word]] = 1\n",
    "    Y[i, unique_word_index[next_words[i]]] = 1"
   ]
  },
  {
   "cell_type": "code",
   "execution_count": 7,
   "metadata": {},
   "outputs": [],
   "source": [
    "model = Sequential()\n",
    "model.add(LSTM(128, input_shape=(WORD_LENGTH, len(unique_words))))\n",
    "model.add(Dense(len(unique_words)))\n",
    "model.add(Activation('softmax'))"
   ]
  },
  {
   "cell_type": "code",
   "execution_count": 8,
   "metadata": {},
   "outputs": [
    {
     "name": "stdout",
     "output_type": "stream",
     "text": [
      "Epoch 1/30\n",
      "801/801 [==============================] - 80s 98ms/step - loss: 6.0273 - accuracy: 0.1068 - val_loss: 5.7110 - val_accuracy: 0.1278\n",
      "Epoch 2/30\n",
      "801/801 [==============================] - 79s 98ms/step - loss: 5.7582 - accuracy: 0.1442 - val_loss: 5.9890 - val_accuracy: 0.1308\n",
      "Epoch 3/30\n",
      "801/801 [==============================] - 79s 98ms/step - loss: 5.7535 - accuracy: 0.1727 - val_loss: 6.1189 - val_accuracy: 0.1347\n",
      "Epoch 4/30\n",
      "801/801 [==============================] - 79s 98ms/step - loss: 5.4843 - accuracy: 0.2045 - val_loss: 6.2120 - val_accuracy: 0.1306\n",
      "Epoch 5/30\n",
      "801/801 [==============================] - 80s 99ms/step - loss: 5.2029 - accuracy: 0.2387 - val_loss: 6.2211 - val_accuracy: 0.1308\n",
      "Epoch 6/30\n",
      "801/801 [==============================] - 79s 99ms/step - loss: 4.9931 - accuracy: 0.2690 - val_loss: 6.3346 - val_accuracy: 0.1325\n",
      "Epoch 7/30\n",
      "801/801 [==============================] - 79s 98ms/step - loss: 4.8299 - accuracy: 0.2995 - val_loss: 6.3731 - val_accuracy: 0.1289\n",
      "Epoch 8/30\n",
      "801/801 [==============================] - 79s 98ms/step - loss: 4.6811 - accuracy: 0.3252 - val_loss: 6.5177 - val_accuracy: 0.1195\n",
      "Epoch 9/30\n",
      "801/801 [==============================] - 78s 97ms/step - loss: 4.5874 - accuracy: 0.3493 - val_loss: 6.5016 - val_accuracy: 0.1202\n",
      "Epoch 10/30\n",
      "801/801 [==============================] - 78s 98ms/step - loss: 4.4834 - accuracy: 0.3713 - val_loss: 6.5537 - val_accuracy: 0.1176\n",
      "Epoch 11/30\n",
      "801/801 [==============================] - 79s 98ms/step - loss: 4.3852 - accuracy: 0.3913 - val_loss: 6.6294 - val_accuracy: 0.1106\n",
      "Epoch 12/30\n",
      "801/801 [==============================] - 78s 98ms/step - loss: 4.2906 - accuracy: 0.4095 - val_loss: 6.7206 - val_accuracy: 0.1219\n",
      "Epoch 13/30\n",
      "801/801 [==============================] - 79s 98ms/step - loss: 4.2205 - accuracy: 0.4237 - val_loss: 6.7158 - val_accuracy: 0.1106\n",
      "Epoch 14/30\n",
      "801/801 [==============================] - 78s 98ms/step - loss: 4.1585 - accuracy: 0.4387 - val_loss: 6.8573 - val_accuracy: 0.1115\n",
      "Epoch 15/30\n",
      "801/801 [==============================] - 79s 98ms/step - loss: 4.1145 - accuracy: 0.4516 - val_loss: 6.8337 - val_accuracy: 0.1156\n",
      "Epoch 16/30\n",
      "801/801 [==============================] - 79s 99ms/step - loss: 4.0711 - accuracy: 0.4620 - val_loss: 6.8894 - val_accuracy: 0.1145\n",
      "Epoch 17/30\n",
      "801/801 [==============================] - 80s 99ms/step - loss: 4.0229 - accuracy: 0.4732 - val_loss: 6.9488 - val_accuracy: 0.1100\n",
      "Epoch 18/30\n",
      "801/801 [==============================] - 79s 98ms/step - loss: 3.9737 - accuracy: 0.4814 - val_loss: 7.0280 - val_accuracy: 0.1083\n",
      "Epoch 19/30\n",
      "801/801 [==============================] - 78s 98ms/step - loss: 3.9341 - accuracy: 0.4893 - val_loss: 7.0661 - val_accuracy: 0.1109\n",
      "Epoch 20/30\n",
      "801/801 [==============================] - 79s 98ms/step - loss: 3.8942 - accuracy: 0.4984 - val_loss: 7.1030 - val_accuracy: 0.1091\n",
      "Epoch 21/30\n",
      "801/801 [==============================] - 79s 98ms/step - loss: 3.8630 - accuracy: 0.5046 - val_loss: 7.1683 - val_accuracy: 0.1072\n",
      "Epoch 22/30\n",
      "801/801 [==============================] - 78s 98ms/step - loss: 3.8292 - accuracy: 0.5104 - val_loss: 7.1822 - val_accuracy: 0.1059\n",
      "Epoch 23/30\n",
      "801/801 [==============================] - 78s 98ms/step - loss: 3.7928 - accuracy: 0.5168 - val_loss: 7.2098 - val_accuracy: 0.1078\n",
      "Epoch 24/30\n",
      "801/801 [==============================] - 78s 98ms/step - loss: 3.7757 - accuracy: 0.5217 - val_loss: 7.2390 - val_accuracy: 0.1100\n",
      "Epoch 25/30\n",
      "801/801 [==============================] - 78s 98ms/step - loss: 3.7407 - accuracy: 0.5258 - val_loss: 7.2864 - val_accuracy: 0.1054\n",
      "Epoch 26/30\n",
      "801/801 [==============================] - 78s 98ms/step - loss: 3.7211 - accuracy: 0.5310 - val_loss: 7.3372 - val_accuracy: 0.1080\n",
      "Epoch 27/30\n",
      "801/801 [==============================] - 78s 98ms/step - loss: 3.7043 - accuracy: 0.5354 - val_loss: 7.3089 - val_accuracy: 0.1093\n",
      "Epoch 28/30\n",
      "801/801 [==============================] - 80s 100ms/step - loss: 3.6889 - accuracy: 0.5377 - val_loss: 7.4264 - val_accuracy: 0.1056\n",
      "Epoch 29/30\n",
      "801/801 [==============================] - 79s 98ms/step - loss: 3.6772 - accuracy: 0.5425 - val_loss: 7.4015 - val_accuracy: 0.1037\n",
      "Epoch 30/30\n",
      "801/801 [==============================] - 81s 101ms/step - loss: 3.6644 - accuracy: 0.5448 - val_loss: 7.4766 - val_accuracy: 0.1004\n"
     ]
    }
   ],
   "source": [
    "optimizer = RMSprop(learning_rate=0.01)\n",
    "model.compile(loss='categorical_crossentropy', optimizer=optimizer, metrics=['accuracy'])\n",
    "history = model.fit(X, Y, validation_split=0.05, batch_size=128, epochs=30, shuffle=True).history"
   ]
  },
  {
   "cell_type": "code",
   "execution_count": 14,
   "metadata": {},
   "outputs": [],
   "source": [
    "model.save('keras_next_word_model.h5')\n",
    "pickle.dump(history, open(\"history.p\", \"wb\"))\n",
    "model = load_model('keras_next_word_model.h5')\n",
    "history = pickle.load(open(\"history.p\", \"rb\"))"
   ]
  },
  {
   "cell_type": "code",
   "execution_count": 15,
   "metadata": {},
   "outputs": [
    {
     "name": "stdout",
     "output_type": "stream",
     "text": [
      "it 3905\n",
      "is 3896\n",
      "not 4773\n"
     ]
    },
    {
     "data": {
      "text/plain": [
       "array([[[0., 0., 0., ..., 0., 0., 0.],\n",
       "        [0., 0., 0., ..., 0., 0., 0.],\n",
       "        [0., 0., 0., ..., 0., 0., 0.]]])"
      ]
     },
     "execution_count": 15,
     "metadata": {},
     "output_type": "execute_result"
    }
   ],
   "source": [
    "def prepare_input(text):\n",
    "    x = np.zeros((1, WORD_LENGTH, len(unique_words)))\n",
    "    for t, word in enumerate(text.split()):\n",
    "        print(word, unique_word_index[word])\n",
    "        x[0, t, unique_word_index[word]] = 1\n",
    "    return x\n",
    "prepare_input(\"It is not\".lower())"
   ]
  },
  {
   "cell_type": "code",
   "execution_count": 16,
   "metadata": {},
   "outputs": [],
   "source": [
    "def sample(preds, top_n=3):\n",
    "    preds = np.asarray(preds).astype('float64')\n",
    "    preds = np.log(preds)\n",
    "    exp_preds = np.exp(preds)\n",
    "    preds = exp_preds / np.sum(exp_preds)\n",
    "\n",
    "    return heapq.nlargest(top_n, range(len(preds)), preds.take)"
   ]
  },
  {
   "cell_type": "code",
   "execution_count": 17,
   "metadata": {},
   "outputs": [],
   "source": [
    "def predict_completions(text, n=3):\n",
    "    if text == \"\":\n",
    "        return(\"0\")\n",
    "    x = prepare_input(text)\n",
    "    preds = model.predict(x, verbose=0)[0]\n",
    "    next_indices = sample(preds, n)\n",
    "    return [unique_words[idx] for idx in next_indices]"
   ]
  },
  {
   "cell_type": "code",
   "execution_count": 18,
   "metadata": {},
   "outputs": [
    {
     "name": "stdout",
     "output_type": "stream",
     "text": [
      "correct sentence:  I need your help\n",
      "Sequence:  i need your\n",
      "i 3617\n",
      "need 4703\n",
      "your 8010\n",
      "next possible words:  ['house', 'father', 'case', 'business', 'morning', 'point', 'face', 'address', 'thing', 'right', 'name', 'room']\n"
     ]
    }
   ],
   "source": [
    "q =  \"I need your help\"\n",
    "print(\"correct sentence: \",q)\n",
    "seq = \" \".join(tokenizer.tokenize(q.lower())[0:3])\n",
    "print(\"Sequence: \",seq)\n",
    "print(\"next possible words: \", predict_completions(seq, 12))"
   ]
  }
 ],
 "metadata": {
  "kernelspec": {
   "display_name": "Python 3",
   "language": "python",
   "name": "python3"
  },
  "language_info": {
   "codemirror_mode": {
    "name": "ipython",
    "version": 3
   },
   "file_extension": ".py",
   "mimetype": "text/x-python",
   "name": "python",
   "nbconvert_exporter": "python",
   "pygments_lexer": "ipython3",
   "version": "3.8.10"
  }
 },
 "nbformat": 4,
 "nbformat_minor": 5
}
